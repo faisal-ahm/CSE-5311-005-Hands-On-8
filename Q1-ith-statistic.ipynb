{
 "cells": [
  {
   "cell_type": "markdown",
   "id": "d2ce696b",
   "metadata": {},
   "source": [
    "#  Implementing ith order statistic using partition from quicksort"
   ]
  },
  {
   "cell_type": "code",
   "execution_count": 4,
   "id": "7d35595a",
   "metadata": {},
   "outputs": [],
   "source": [
    "import random"
   ]
  },
  {
   "cell_type": "code",
   "execution_count": 5,
   "id": "df14e195",
   "metadata": {},
   "outputs": [],
   "source": [
    "def partition(arr, low, high):\n",
    "    pivot = arr[high]\n",
    "    i = low - 1\n",
    "    for j in range(low, high):\n",
    "        if arr[j] <= pivot:\n",
    "            i += 1\n",
    "            arr[i], arr[j] = arr[j], arr[i]\n",
    "    arr[i + 1], arr[high] = arr[high], arr[i + 1]\n",
    "    return i + 1\n",
    "\n",
    "def ith_order_statistic(arr, low, high, i):\n",
    "    if low <= high:\n",
    "        pivot_index = partition(arr, low, high)\n",
    "        k = pivot_index - low + 1\n",
    "        if i == k:  \n",
    "            return arr[pivot_index]\n",
    "        elif i < k:\n",
    "            return ith_order_statistic(arr, low, pivot_index - 1, i)\n",
    "        else:\n",
    "            return ith_order_statistic(arr, pivot_index + 1, high, i - k)"
   ]
  },
  {
   "cell_type": "code",
   "execution_count": 6,
   "id": "ef7c48bb",
   "metadata": {},
   "outputs": [
    {
     "name": "stdout",
     "output_type": "stream",
     "text": [
      "Test 1: Array = [48, 19, 34, 49, 1, 25, 95, 53, 30, 5]\n",
      "The 3th smallest element is 19\n",
      "\n",
      "Test 2: Array = [87, 9, 36, 28, 2, 94, 53, 34, 9, 71]\n",
      "The 3th smallest element is 9\n",
      "\n",
      "Test 3: Array = [25, 80, 32, 83, 24, 31, 66, 17, 9, 28]\n",
      "The 3th smallest element is 24\n",
      "\n",
      "Test 4: Array = [53, 77, 79, 95, 92, 72, 37, 27, 18, 85]\n",
      "The 3th smallest element is 37\n",
      "\n",
      "Test 5: Array = [29, 22, 79, 27, 77, 92, 6, 11, 9, 9]\n",
      "The 3th smallest element is 9\n",
      "\n"
     ]
    }
   ],
   "source": [
    "def generate_random_array(size, min_val, max_val):\n",
    "    return [random.randint(min_val, max_val) for _ in range(size)]\n",
    "\n",
    "def run_ith_statistic_tests(num_tests, array_size, min_val, max_val, i):\n",
    "    for test in range(1, num_tests + 1):\n",
    "        arr = generate_random_array(array_size, min_val, max_val)\n",
    "        print(f\"Test {test}: Array = {arr}\")\n",
    "        result = ith_order_statistic(arr, 0, len(arr) - 1, i)\n",
    "        print(f\"The {i}th smallest element is {result}\\n\")\n",
    "\n",
    "run_ith_statistic_tests(num_tests=5, array_size=10, min_val=1, max_val=100, i=3)"
   ]
  },
  {
   "cell_type": "code",
   "execution_count": null,
   "id": "25a31580",
   "metadata": {},
   "outputs": [],
   "source": []
  }
 ],
 "metadata": {
  "kernelspec": {
   "display_name": "Python 3 (ipykernel)",
   "language": "python",
   "name": "python3"
  },
  "language_info": {
   "codemirror_mode": {
    "name": "ipython",
    "version": 3
   },
   "file_extension": ".py",
   "mimetype": "text/x-python",
   "name": "python",
   "nbconvert_exporter": "python",
   "pygments_lexer": "ipython3",
   "version": "3.11.4"
  }
 },
 "nbformat": 4,
 "nbformat_minor": 5
}
